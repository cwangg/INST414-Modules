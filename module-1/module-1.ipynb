{
 "cells": [
  {
   "cell_type": "code",
   "execution_count": 3,
   "metadata": {},
   "outputs": [],
   "source": [
    "import pandas as pd"
   ]
  },
  {
   "cell_type": "code",
   "execution_count": 4,
   "metadata": {},
   "outputs": [
    {
     "name": "stdout",
     "output_type": "stream",
     "text": [
      "Number of 'yes' in Unusual Bleeding: 22\n",
      "Number of 'no' in Unusual Bleeding: 140\n"
     ]
    }
   ],
   "source": [
    "file = (\"period.csv\")    \n",
    "\n",
    "df = pd.read_csv(file)\n",
    "\n",
    "df['Unusual_Bleeding'] = df['Unusual_Bleeding'].str.lower()\n",
    "\n",
    "yes_count = df[df['Unusual_Bleeding'] == 'yes'].shape[0]\n",
    "no_count = df[df['Unusual_Bleeding'] == 'no'].shape[0]\n",
    "\n",
    "\n",
    "print(f\"Number of 'yes' in Unusual Bleeding: {yes_count}\")\n",
    "print(f\"Number of 'no' in Unusual Bleeding: {no_count}\")"
   ]
  }
 ],
 "metadata": {
  "kernelspec": {
   "display_name": "Python 3",
   "language": "python",
   "name": "python3"
  },
  "language_info": {
   "codemirror_mode": {
    "name": "ipython",
    "version": 3
   },
   "file_extension": ".py",
   "mimetype": "text/x-python",
   "name": "python",
   "nbconvert_exporter": "python",
   "pygments_lexer": "ipython3",
   "version": "3.11.1"
  }
 },
 "nbformat": 4,
 "nbformat_minor": 2
}
