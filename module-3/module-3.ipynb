{
 "cells": [
  {
   "cell_type": "code",
   "execution_count": 195,
   "metadata": {},
   "outputs": [],
   "source": [
    "import pandas as pd\n",
    "from sklearn.metrics.pairwise import euclidean_distances\n",
    "\n",
    "df = pd.read_csv('top_100_movies_by_genres.csv')\n",
    "\n",
    "df['RatingTomatometer'] = df['RatingTomatometer'].str.rstrip('%').astype(float)\n",
    "\n",
    "df_unique = df.drop_duplicates(subset='Title', keep='first')"
   ]
  },
  {
   "cell_type": "code",
   "execution_count": 196,
   "metadata": {},
   "outputs": [
    {
     "name": "stdout",
     "output_type": "stream",
     "text": [
      "1. Us (2019) - Euclidean Distance: 6.0828\n",
      "2. Captain Marvel (2019) - Euclidean Distance: 15.5242\n",
      "3. A Star Is Born (2018) - Euclidean Distance: 19.4165\n",
      "4. Black Panther (2018) - Euclidean Distance: 22.0907\n",
      "5. Once Upon a Time In Hollywood (2019) - Euclidean Distance: 25.6320\n",
      "6. Avengers: Infinity War (2018) - Euclidean Distance: 62.6498\n",
      "7. Star Wars: The Last Jedi (2017) - Euclidean Distance: 64.0703\n",
      "8. Wonder Woman (2017) - Euclidean Distance: 75.0067\n",
      "9. Knives Out (2019) - Euclidean Distance: 79.0569\n",
      "10. La La Land (2016) - Euclidean Distance: 80.0562\n"
     ]
    }
   ],
   "source": [
    "columns = df_unique[['RatingTomatometer', 'No. of Reviews']].values\n",
    "euclidean_dist_cols = euclidean_distances(columns)\n",
    "\n",
    "target_movie = 'Avengers: Endgame (2019)'\n",
    "target_movie_idx = df_unique[df_unique['Title'] == target_movie].index[0]\n",
    "\n",
    "similar_idx_cols = euclidean_dist_cols[target_movie_idx].argsort()[1:11]\n",
    "similar_movies_cols = df_unique.iloc[similar_idx_cols]['Title'].values.tolist()\n",
    "similar_distances_cols = euclidean_dist_cols[target_movie_idx][similar_idx_cols]\n",
    "\n",
    "for i, (movie, distance) in enumerate(zip(similar_movies_cols, similar_distances_cols), 1):\n",
    "    print(f\"{i}. {movie} - Euclidean Distance: {distance:.4f}\")\n"
   ]
  },
  {
   "cell_type": "code",
   "execution_count": 197,
   "metadata": {},
   "outputs": [
    {
     "name": "stdout",
     "output_type": "stream",
     "text": [
      "1. The Farewell (2019) - Cosine Similarity: 0.999910\n",
      "2. Finding Dory (2016) - Cosine Similarity: 0.999877\n",
      "3. Battle of the Sexes (2017) - Cosine Similarity: 0.999850\n",
      "4. Booksmart (2019) - Cosine Similarity: 0.999824\n",
      "5. Inside Out (2015) - Cosine Similarity: 0.999796\n",
      "6. Soul (2020) - Cosine Similarity: 0.999794\n",
      "7. Moonlight (2016) - Cosine Similarity: 0.999704\n",
      "8. Lady Bird (2017) - Cosine Similarity: 0.999648\n",
      "9. Spider-Man: Into the Spider-Verse (2018) - Cosine Similarity: 0.999631\n",
      "10. Get Out (2017) - Cosine Similarity: 0.999519\n"
     ]
    }
   ],
   "source": [
    "from sklearn.metrics.pairwise import cosine_similarity\n",
    "\n",
    "columns = df_unique[['RatingTomatometer', 'No. of Reviews', 'Rank']].values\n",
    "\n",
    "cosine_sim = cosine_similarity(columns)\n",
    "\n",
    "target_movie = 'Coco (2017)'\n",
    "target_movie_idx = df_unique[df_unique['Title'] == target_movie].index[0]\n",
    "\n",
    "similar_idx_cols = cosine_sim[target_movie_idx].argsort()[::-1][1:11]\n",
    "similar_movies_cols = df_unique.iloc[similar_idx_cols]['Title'].values.tolist()\n",
    "similarity_cols = cosine_sim[target_movie_idx][similar_idx_cols]\n",
    "\n",
    "for i, (movie, score) in enumerate(zip(similar_movies_cols, similarity_cols), 1):\n",
    "    print(f\"{i}. {movie} - Cosine Similarity: {score:.6f}\")"
   ]
  },
  {
   "cell_type": "code",
   "execution_count": 198,
   "metadata": {},
   "outputs": [
    {
     "name": "stdout",
     "output_type": "stream",
     "text": [
      "1. The Martian (2015) - Euclidean Distance: 1.0000\n",
      "2. I, Tonya (2018) - Euclidean Distance: 2.2361\n",
      "3. The Lighthouse (2019) - Euclidean Distance: 2.8284\n",
      "4. Doctor Strange (2016) - Euclidean Distance: 3.1623\n",
      "5. Incredibles 2 (2018) - Euclidean Distance: 3.1623\n",
      "6. Hereditary (2018) - Euclidean Distance: 3.6056\n",
      "7. A Quiet Place (2018) - Euclidean Distance: 5.0000\n",
      "8. It (2017) - Euclidean Distance: 6.7082\n",
      "9. Booksmart (2019) - Euclidean Distance: 7.2111\n",
      "10. Inside Out (2015) - Euclidean Distance: 7.8102\n"
     ]
    }
   ],
   "source": [
    "columns = df_unique[['RatingTomatometer', 'No. of Reviews']].values\n",
    "euclidean_dist_cols = euclidean_distances(columns)\n",
    "\n",
    "target_movie = 'Skyfall (2012)'\n",
    "target_movie_idx = df_unique[df_unique['Title'] == target_movie].index[0]\n",
    "\n",
    "similar_idx_cols = euclidean_dist_cols[target_movie_idx].argsort()[1:11]\n",
    "similar_movies_cols = df_unique.iloc[similar_idx_cols]['Title'].values.tolist()\n",
    "similar_distances_cols = euclidean_dist_cols[target_movie_idx][similar_idx_cols]\n",
    "\n",
    "for i, (movie, distance) in enumerate(zip(similar_movies_cols, similar_distances_cols), 1):\n",
    "    print(f\"{i}. {movie} - Euclidean Distance: {distance:.4f}\")\n"
   ]
  }
 ],
 "metadata": {
  "kernelspec": {
   "display_name": "Python 3",
   "language": "python",
   "name": "python3"
  },
  "language_info": {
   "codemirror_mode": {
    "name": "ipython",
    "version": 3
   },
   "file_extension": ".py",
   "mimetype": "text/x-python",
   "name": "python",
   "nbconvert_exporter": "python",
   "pygments_lexer": "ipython3",
   "version": "3.11.1"
  }
 },
 "nbformat": 4,
 "nbformat_minor": 2
}
