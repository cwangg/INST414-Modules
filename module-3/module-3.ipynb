{
 "cells": [
  {
   "cell_type": "code",
   "execution_count": 76,
   "metadata": {},
   "outputs": [],
   "source": [
    "import pandas as pd\n",
    "from sklearn.metrics.pairwise import euclidean_distances\n",
    "\n",
    "df = pd.read_csv('top_100_movies_by_genres.csv')\n",
    "\n",
    "df['RatingTomatometer'] = df['RatingTomatometer'].str.rstrip('%').astype(float)\n",
    "\n",
    "df_unique = df.drop_duplicates(subset='Title', keep='first')\n"
   ]
  },
  {
   "cell_type": "code",
   "execution_count": 77,
   "metadata": {},
   "outputs": [
    {
     "name": "stdout",
     "output_type": "stream",
     "text": [
      "1. Us (2019) - Euclidean Distance: 6.08\n",
      "2. Captain Marvel (2019) - Euclidean Distance: 15.52\n",
      "3. A Star Is Born (2018) - Euclidean Distance: 19.42\n",
      "4. Black Panther (2018) - Euclidean Distance: 22.09\n",
      "5. Once Upon a Time In Hollywood (2019) - Euclidean Distance: 25.63\n",
      "6. Avengers: Infinity War (2018) - Euclidean Distance: 62.65\n",
      "7. Star Wars: The Last Jedi (2017) - Euclidean Distance: 64.07\n",
      "8. Wonder Woman (2017) - Euclidean Distance: 75.01\n",
      "9. Knives Out (2019) - Euclidean Distance: 79.06\n",
      "10. La La Land (2016) - Euclidean Distance: 80.06\n"
     ]
    }
   ],
   "source": [
    "columns = df_unique[['RatingTomatometer', 'No. of Reviews']].values\n",
    "euclidean_dist_cols = euclidean_distances(columns)\n",
    "\n",
    "target_movie = 'Avengers: Endgame (2019)'\n",
    "target_movie_idx = df_unique[df_unique['Title'] == target_movie].index[0]\n",
    "\n",
    "similar_idx_cols = euclidean_dist_cols[target_movie_idx].argsort()[1:11]\n",
    "similar_movies_cols = df_unique.iloc[similar_idx_cols]['Title'].values.tolist()\n",
    "similar_distances_cols = euclidean_dist_cols[target_movie_idx][similar_idx_cols]\n",
    "\n",
    "for i, (movie, distance) in enumerate(zip(similar_movies_cols, similar_distances_cols), 1):\n",
    "    print(f\"{i}. {movie} - Euclidean Distance: {distance:.2f}\")\n"
   ]
  },
  {
   "cell_type": "code",
   "execution_count": 127,
   "metadata": {},
   "outputs": [
    {
     "name": "stdout",
     "output_type": "stream",
     "text": [
      "1. The Martian (2015) - Euclidean Distance: 1.00\n",
      "2. I, Tonya (2018) - Euclidean Distance: 2.24\n",
      "3. The Lighthouse (2019) - Euclidean Distance: 2.83\n",
      "4. Doctor Strange (2016) - Euclidean Distance: 3.16\n",
      "5. Incredibles 2 (2018) - Euclidean Distance: 3.16\n",
      "6. Hereditary (2018) - Euclidean Distance: 3.61\n",
      "7. A Quiet Place (2018) - Euclidean Distance: 5.00\n",
      "8. It (2017) - Euclidean Distance: 6.71\n",
      "9. Booksmart (2019) - Euclidean Distance: 7.21\n",
      "10. Inside Out (2015) - Euclidean Distance: 7.81\n"
     ]
    }
   ],
   "source": [
    "columns = df_unique[['RatingTomatometer', 'No. of Reviews']].values\n",
    "euclidean_dist_cols = euclidean_distances(columns)\n",
    "\n",
    "target_movie = 'Skyfall (2012)'\n",
    "target_movie_idx = df_unique[df_unique['Title'] == target_movie].index[0]\n",
    "\n",
    "similar_idx_cols = euclidean_dist_cols[target_movie_idx].argsort()[1:11]\n",
    "similar_movies_cols = df_unique.iloc[similar_idx_cols]['Title'].values.tolist()\n",
    "similar_distances_cols = euclidean_dist_cols[target_movie_idx][similar_idx_cols]\n",
    "\n",
    "for i, (movie, distance) in enumerate(zip(similar_movies_cols, similar_distances_cols), 1):\n",
    "    print(f\"{i}. {movie} - Euclidean Distance: {distance:.2f}\")\n"
   ]
  },
  {
   "cell_type": "code",
   "execution_count": 91,
   "metadata": {},
   "outputs": [
    {
     "name": "stdout",
     "output_type": "stream",
     "text": [
      "Top 10 movies similar to 'Big Hero 6 (2014)' based on different features (Euclidean Distance):\n",
      "1. Once Upon a Time in the West (1968) - Euclidean Distance: 0.00\n",
      "2. Mary and Max (2009) - Euclidean Distance: 0.00\n",
      "3. Repulsion (1965) - Euclidean Distance: 0.00\n",
      "4. The Mortuary Collection (2019) - Euclidean Distance: 1.00\n",
      "5. Black Is King (2020) - Euclidean Distance: 1.00\n",
      "6. Moonstruck (1987) - Euclidean Distance: 1.00\n",
      "7. National Gallery (2014) - Euclidean Distance: 1.00\n",
      "8. Not Quite Hollywood: The Wild, Untold Story of Ozploitation! (2008) - Euclidean Distance: 1.00\n",
      "9. The Crying Game (1992) - Euclidean Distance: 1.41\n",
      "10. Some Like It Hot (1959) - Euclidean Distance: 1.41\n"
     ]
    }
   ],
   "source": [
    "columns = df_unique[['RatingTomatometer', 'No. of Reviews']].values\n",
    "euclidean_dist_cols = euclidean_distances(columns)\n",
    "\n",
    "target_movie = 'Big Hero 6 (2014)'\n",
    "target_movie_idx = df_unique[df_unique['Title'] == target_movie].index[0]\n",
    "\n",
    "similar_idx_cols = euclidean_dist_cols[target_movie_idx].argsort()[1:11]\n",
    "similar_movies_cols = df_unique.iloc[similar_idx_cols]['Title'].values.tolist()\n",
    "similar_distances_cols = euclidean_dist_cols[target_movie_idx][similar_idx_cols]\n",
    "\n",
    "for i, (movie, distance) in enumerate(zip(similar_movies_cols, similar_distances_cols), 1):\n",
    "    print(f\"{i}. {movie} - Euclidean Distance: {distance:.2f}\")\n"
   ]
  }
 ],
 "metadata": {
  "kernelspec": {
   "display_name": "Python 3",
   "language": "python",
   "name": "python3"
  },
  "language_info": {
   "codemirror_mode": {
    "name": "ipython",
    "version": 3
   },
   "file_extension": ".py",
   "mimetype": "text/x-python",
   "name": "python",
   "nbconvert_exporter": "python",
   "pygments_lexer": "ipython3",
   "version": "3.11.1"
  }
 },
 "nbformat": 4,
 "nbformat_minor": 2
}
